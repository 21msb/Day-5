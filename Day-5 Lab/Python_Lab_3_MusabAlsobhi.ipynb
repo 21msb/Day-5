{
 "cells": [
  {
   "cell_type": "markdown",
   "metadata": {},
   "source": [
    "# Python_Lab_3\n"
   ]
  },
  {
   "cell_type": "markdown",
   "metadata": {},
   "source": [
    "### Task 1\n",
    "- Write a function named **'create_student_records'** that takes a list of tuples. Each tuple contains a student's name and their scores in three subjects. The function should return a list of dictionaries, where each dictionary represents a student with keys: name, subject1, subject2, subject3. Use list comprehension to create the list of dictionaries."
   ]
  },
  {
   "cell_type": "code",
   "execution_count": 58,
   "metadata": {},
   "outputs": [
    {
     "name": "stdout",
     "output_type": "stream",
     "text": [
      "[{'name': 'Musab', 'subject1': 100, 'subject2': 100, 'subject3': 100}, {'name': 'Fares', 'subject1': 85, 'subject2': 91, 'subject3': 99}, {'name': 'Khaled', 'subject1': 90, 'subject2': 79, 'subject3': 60}]\n"
     ]
    }
   ],
   "source": [
    "def create_student_records(tuples_list):\n",
    "    return [{\"name\": name, \"subject1\": subject1, \"subject2\": subject2, \"subject3\": subject3} for name, subject1, subject2, subject3 in tuples_list]\n",
    "\n",
    "tuples = [\n",
    "    (\"Musab\", 100, 100, 100),\n",
    "    (\"Fares\", 85, 91, 99),\n",
    "    (\"Khaled\", 90, 79, 60)\n",
    "]\n",
    "\n",
    "dic = create_student_records(tuples)\n",
    "print(dic)"
   ]
  },
  {
   "cell_type": "markdown",
   "metadata": {},
   "source": [
    "# Task 2\n",
    "- Write a function named **'filter_and_sort_students'** that takes the list of dictionaries from Question 1 and returns a sorted list of student names who have an average score of 80 or more across all subjects. Sort the names in alphabetical order."
   ]
  },
  {
   "cell_type": "code",
   "execution_count": 60,
   "metadata": {},
   "outputs": [
    {
     "name": "stdout",
     "output_type": "stream",
     "text": [
      "['Fares', 'Musab']\n"
     ]
    }
   ],
   "source": [
    "def filter_and_sort_students(dictionary):\n",
    "    \n",
    "    filter = [student['name'] for student in dictionary \n",
    "                         if (student['subject1'] + student['subject2'] + student['subject3']) / 3 >= 80]\n",
    "    \n",
    "    filter.sort()\n",
    "    \n",
    "    return filter\n",
    "\n",
    "filtered_sorted_students = filter_and_sort_students(dic)\n",
    "print(filtered_sorted_students)"
   ]
  },
  {
   "cell_type": "markdown",
   "metadata": {},
   "source": [
    "### Task 3\n",
    "- Write a function named **'get_product_info'** that prompts the user to enter information about a product. The function should ask for the product name, product price, and product quantity. If the user enters an invalid input (e.g., a non-numeric value for the price or quantity), the function should handle the error and prompt the user to enter the value again. Return a dictionary containing the product information."
   ]
  },
  {
   "cell_type": "code",
   "execution_count": 62,
   "metadata": {},
   "outputs": [
    {
     "name": "stdin",
     "output_type": "stream",
     "text": [
      "Enter product name:  \n",
      "Enter product price:  a\n"
     ]
    },
    {
     "name": "stdout",
     "output_type": "stream",
     "text": [
      "Invalid input. Please enter numeric values for price and quantity.\n"
     ]
    },
    {
     "name": "stdin",
     "output_type": "stream",
     "text": [
      "Enter product name:  3\n",
      "Enter product price:  2\n",
      "Enter product quantity:  1\n"
     ]
    },
    {
     "name": "stdout",
     "output_type": "stream",
     "text": [
      "{'name': '3', 'price': 2.0, 'quantity': 1}\n"
     ]
    }
   ],
   "source": [
    "def get_product_info():\n",
    "    while True:\n",
    "        \n",
    "        try:\n",
    "            product_name = input(\"Enter product name: \")\n",
    "            product_price = float(input(\"Enter product price: \"))\n",
    "            product_quantity = int(input(\"Enter product quantity: \"))\n",
    "            \n",
    "            product_info = {\n",
    "                'name': product_name,\n",
    "                'price': product_price,\n",
    "                'quantity': product_quantity\n",
    "            }\n",
    "            \n",
    "            return product_info\n",
    "        \n",
    "        except ValueError:\n",
    "            print(\"Invalid input. Please enter numeric values for price and quantity.\")\n",
    "\n",
    "print(get_product_info())\n"
   ]
  },
  {
   "cell_type": "markdown",
   "metadata": {},
   "source": [
    "### Task 4\n",
    "- Write a function named **'get_even_numbers'** that takes a list of integers and returns a list of even numbers using list comprehension."
   ]
  },
  {
   "cell_type": "code",
   "execution_count": 64,
   "metadata": {},
   "outputs": [
    {
     "name": "stdout",
     "output_type": "stream",
     "text": [
      "[2, 4, 6, 8, 10]\n"
     ]
    }
   ],
   "source": [
    "def get_even_numbers(numbers_list):\n",
    "    even_list = [i for i in numbers_list if i%2 == 0]\n",
    "    return even_list\n",
    "\n",
    "numbers_list = [1, 2, 3, 4, 5, 6, 7, 8, 9, 10]\n",
    "\n",
    "even_list = get_even_numbers(numbers_list)\n",
    "print(even_list)\n",
    "    "
   ]
  },
  {
   "cell_type": "markdown",
   "metadata": {},
   "source": [
    "### Task 5\n",
    "- Write a function named **'pair_elements'** that takes two lists of equal length as parameters and returns a list of tuples, where each tuple contains corresponding elements from the two lists. Use the zip function to achieve this."
   ]
  },
  {
   "cell_type": "code",
   "execution_count": 66,
   "metadata": {},
   "outputs": [
    {
     "name": "stdout",
     "output_type": "stream",
     "text": [
      "[(1, 'a'), (2, 'b'), (3, 'c')]\n"
     ]
    }
   ],
   "source": [
    "def pair_elements(list1, list2):\n",
    "   \n",
    "    if len(list1) == len(list2):\n",
    "    \n",
    "        paired_list = list(zip(list1, list2))\n",
    "        return paired_list\n",
    "    \n",
    "    else:\n",
    "        \n",
    "        return \"The lists must be equal to eachother in thier lenght\"\n",
    "        \n",
    "list1 = [1, 2, 3]\n",
    "list2 = ['a', 'b', 'c']\n",
    "\n",
    "print(pair_elements(list1, list2)) \n"
   ]
  },
  {
   "cell_type": "markdown",
   "metadata": {},
   "source": [
    "### Task 6\n",
    "- Write a function named **'square_dict_lambda'** that takes a list of integers and returns a dictionary where the keys are the integers and the values are their squares. Use a lambda function within a dictionary comprehension to achieve this."
   ]
  },
  {
   "cell_type": "code",
   "execution_count": 68,
   "metadata": {},
   "outputs": [
    {
     "name": "stdout",
     "output_type": "stream",
     "text": [
      "{1: 1, 2: 4, 3: 9, 4: 16, 5: 25, 6: 36, 7: 49, 8: 64, 9: 81, 10: 100}\n"
     ]
    }
   ],
   "source": [
    "def square_dict_lambda(int_list):\n",
    "    \n",
    "    square_dict = {x: (lambda x: x ** 2)(x) for x in int_list}\n",
    "    return square_dict\n",
    "\n",
    "numbers = [1, 2, 3, 4, 5, 6, 7, 8, 9, 10]\n",
    "\n",
    "print(square_dict_lambda(numbers))\n"
   ]
  },
  {
   "cell_type": "code",
   "execution_count": null,
   "metadata": {},
   "outputs": [],
   "source": []
  }
 ],
 "metadata": {
  "kernelspec": {
   "display_name": "Python 3 (ipykernel)",
   "language": "python",
   "name": "python3"
  },
  "language_info": {
   "codemirror_mode": {
    "name": "ipython",
    "version": 3
   },
   "file_extension": ".py",
   "mimetype": "text/x-python",
   "name": "python",
   "nbconvert_exporter": "python",
   "pygments_lexer": "ipython3",
   "version": "3.12.4"
  }
 },
 "nbformat": 4,
 "nbformat_minor": 4
}
